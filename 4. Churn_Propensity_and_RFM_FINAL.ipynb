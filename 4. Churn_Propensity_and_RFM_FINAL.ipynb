{
  "cells": [
    {
      "cell_type": "code",
      "execution_count": 1,
      "id": "8e35058a-76da-4ee2-bd78-6ab37fe58c11",
      "metadata": {
        "id": "8e35058a-76da-4ee2-bd78-6ab37fe58c11"
      },
      "outputs": [],
      "source": [
        "import matplotlib.pyplot as plt\n",
        "import numpy as np\n",
        "import seaborn as sns\n",
        "import pandas as pd"
      ]
    },
    {
      "cell_type": "code",
      "execution_count": 2,
      "id": "6805f8ab-593c-40dc-87e7-913e4ef15a5c",
      "metadata": {
        "id": "6805f8ab-593c-40dc-87e7-913e4ef15a5c"
      },
      "outputs": [],
      "source": [
        "import plotly.express as px"
      ]
    },
    {
      "cell_type": "markdown",
      "id": "6a2489c6-181b-4aef-9c55-521bbed59bcc",
      "metadata": {
        "id": "6a2489c6-181b-4aef-9c55-521bbed59bcc"
      },
      "source": [
        "##### Uploading Train Dataset"
      ]
    },
    {
      "cell_type": "code",
      "execution_count": 3,
      "id": "d935529a-727b-45a2-8ebd-1d36c9128b2e",
      "metadata": {
        "id": "d935529a-727b-45a2-8ebd-1d36c9128b2e"
      },
      "outputs": [],
      "source": [
        "file_path = \"final_dataset_b2b_random_subset_churn.csv\"\n",
        "data_train = pd.read_csv(file_path)"
      ]
    },
    {
      "cell_type": "code",
      "execution_count": 4,
      "id": "d20c5c60-0086-4017-903a-bac77f947a29",
      "metadata": {
        "id": "d20c5c60-0086-4017-903a-bac77f947a29"
      },
      "outputs": [],
      "source": [
        "columns_to_drop = ['latest_purchase_days_y', 'mean_purchase_frequency_days', 'cluster']\n",
        "data_train.drop(columns=columns_to_drop, inplace=True)"
      ]
    },
    {
      "cell_type": "code",
      "execution_count": 5,
      "id": "587c754a-d5b0-4d45-babb-a5a73bace5e5",
      "metadata": {
        "id": "587c754a-d5b0-4d45-babb-a5a73bace5e5"
      },
      "outputs": [],
      "source": [
        "data_train.rename(columns={'latest_purchase_days_x': 'latest_purchase_days'}, inplace=True)"
      ]
    },
    {
      "cell_type": "markdown",
      "id": "ff1646f8-0615-4f0a-aec9-2fd17bb771a3",
      "metadata": {
        "id": "ff1646f8-0615-4f0a-aec9-2fd17bb771a3"
      },
      "source": [
        "##### Uploading Test Dataset"
      ]
    },
    {
      "cell_type": "code",
      "execution_count": 6,
      "id": "m9l9IcDz_uIe",
      "metadata": {
        "id": "m9l9IcDz_uIe"
      },
      "outputs": [],
      "source": [
        "file_path = \"final_dataset_b2b_remaining_clients_churn.csv\"\n",
        "data_test = pd.read_csv(file_path)"
      ]
    },
    {
      "cell_type": "code",
      "execution_count": 7,
      "id": "9aY8P1dZ_uAJ",
      "metadata": {
        "id": "9aY8P1dZ_uAJ"
      },
      "outputs": [],
      "source": [
        "# Specify the columns you want to include\n",
        "selected_columns = ['client_id','sales_net','quantity', 'product_price','date_order',\n",
        "                    'order_channel_at the store', 'order_channel_by phone', 'order_channel_during the visit of a sales rep',\n",
        "                    'order_channel_online', 'order_channel_other']\n",
        "\n",
        "file_path = \"final_dataset_b2b.csv\"\n",
        "\n",
        "data_for_completion = pd.read_csv(file_path, usecols=selected_columns)"
      ]
    },
    {
      "cell_type": "code",
      "execution_count": 8,
      "id": "evloKlnT_t3j",
      "metadata": {
        "colab": {
          "base_uri": "https://localhost:8080/"
        },
        "id": "evloKlnT_t3j",
        "outputId": "1a162aed-2e9e-4738-d5fd-a1d0895aa4b0"
      },
      "outputs": [
        {
          "name": "stdout",
          "output_type": "stream",
          "text": [
            "<class 'pandas.core.frame.DataFrame'>\n",
            "RangeIndex: 63160893 entries, 0 to 63160892\n",
            "Data columns (total 10 columns):\n",
            " #   Column                                         Dtype  \n",
            "---  ------                                         -----  \n",
            " 0   date_order                                     object \n",
            " 1   client_id                                      int64  \n",
            " 2   sales_net                                      float64\n",
            " 3   quantity                                       int64  \n",
            " 4   product_price                                  float64\n",
            " 5   order_channel_at the store                     bool   \n",
            " 6   order_channel_by phone                         bool   \n",
            " 7   order_channel_during the visit of a sales rep  bool   \n",
            " 8   order_channel_online                           bool   \n",
            " 9   order_channel_other                            bool   \n",
            "dtypes: bool(5), float64(2), int64(2), object(1)\n",
            "memory usage: 2.6+ GB\n"
          ]
        }
      ],
      "source": [
        "data_for_completion.info()"
      ]
    },
    {
      "cell_type": "code",
      "execution_count": 9,
      "id": "bFrEcy-gBD6N",
      "metadata": {
        "colab": {
          "base_uri": "https://localhost:8080/"
        },
        "id": "bFrEcy-gBD6N",
        "outputId": "108689b9-7086-46d7-978f-27f70e7523c5"
      },
      "outputs": [
        {
          "name": "stdout",
          "output_type": "stream",
          "text": [
            "<class 'pandas.core.frame.DataFrame'>\n",
            "RangeIndex: 6006791 entries, 0 to 6006790\n",
            "Data columns (total 18 columns):\n",
            " #   Column                                         Dtype  \n",
            "---  ------                                         -----  \n",
            " 0   date_order                                     object \n",
            " 1   date_invoice                                   object \n",
            " 2   product_id                                     int64  \n",
            " 3   client_id                                      int64  \n",
            " 4   sales_net                                      float64\n",
            " 5   quantity                                       int64  \n",
            " 6   branch_id                                      int64  \n",
            " 7   product_price                                  float64\n",
            " 8   order_channel_at the store                     bool   \n",
            " 9   order_channel_by phone                         bool   \n",
            " 10  order_channel_during the visit of a sales rep  bool   \n",
            " 11  order_channel_online                           bool   \n",
            " 12  order_channel_other                            bool   \n",
            " 13  time_diff                                      float64\n",
            " 14  latest_purchase_days                           int64  \n",
            " 15  purchase_frequency                             float64\n",
            " 16  std_time_diff                                  float64\n",
            " 17  churned                                        int64  \n",
            "dtypes: bool(5), float64(5), int64(6), object(2)\n",
            "memory usage: 624.4+ MB\n"
          ]
        }
      ],
      "source": [
        "data_train.info()"
      ]
    },
    {
      "cell_type": "code",
      "execution_count": 10,
      "id": "1b698a51",
      "metadata": {},
      "outputs": [],
      "source": [
        "# If duplicates are found, you might need to remove them or aggregate your data such that each client_id is unique\n",
        "data_test = data_test.drop_duplicates(subset=['client_id'])\n",
        "data_for_completion = data_for_completion.drop_duplicates(subset=['client_id'])"
      ]
    },
    {
      "cell_type": "code",
      "execution_count": 11,
      "id": "ec7397d2-a851-4f53-8ea7-9ac55b8554a4",
      "metadata": {
        "id": "ec7397d2-a851-4f53-8ea7-9ac55b8554a4"
      },
      "outputs": [],
      "source": [
        "data_test_merged = pd.merge(data_test, data_for_completion, how='left', on='client_id')"
      ]
    },
    {
      "cell_type": "markdown",
      "id": "c19c0d14-bf22-4c9e-8f46-d7b1caa874ce",
      "metadata": {
        "id": "c19c0d14-bf22-4c9e-8f46-d7b1caa874ce"
      },
      "source": [
        "# RFM"
      ]
    },
    {
      "cell_type": "markdown",
      "id": "4ad46b75-dd9d-4d26-a2cb-cd2b1ab791d5",
      "metadata": {
        "id": "4ad46b75-dd9d-4d26-a2cb-cd2b1ab791d5"
      },
      "source": [
        "### Calculate RFM"
      ]
    },
    {
      "cell_type": "markdown",
      "id": "78cda8a1-581a-4e06-b4b6-5cc86c0cee3f",
      "metadata": {
        "id": "78cda8a1-581a-4e06-b4b6-5cc86c0cee3f"
      },
      "source": [
        "##### Enter here the dataset to use for the RFM calculation (f.ex. start with the Test Set, do all RFM steps, then come back to do the Train Set)"
      ]
    },
    {
      "cell_type": "code",
      "execution_count": 12,
      "id": "1d5155a1-14f9-49e3-ad0f-e28cc9a74a2c",
      "metadata": {
        "id": "1d5155a1-14f9-49e3-ad0f-e28cc9a74a2c"
      },
      "outputs": [],
      "source": [
        "rfm_data = data_train"
      ]
    },
    {
      "cell_type": "code",
      "execution_count": 14,
      "id": "00c29500-b887-416e-88ba-8c2507d5c879",
      "metadata": {
        "id": "00c29500-b887-416e-88ba-8c2507d5c879"
      },
      "outputs": [],
      "source": [
        "rfm_aggregated = rfm_data.groupby('client_id').agg({\n",
        "    'latest_purchase_days': 'min',               # Recency\n",
        "    'purchase_frequency': 'mean',      # Frequency\n",
        "    'sales_net': 'sum'                           # Monetary Value\n",
        "}).reset_index()\n",
        "\n",
        "#Renaming columns for clarity\n",
        "rfm_aggregated.columns = ['client_id', 'recency', 'frequency', 'monetary']"
      ]
    },
    {
      "cell_type": "code",
      "execution_count": 15,
      "id": "3167b0de-c87e-4324-8597-b2592d9f36f3",
      "metadata": {
        "colab": {
          "base_uri": "https://localhost:8080/",
          "height": 423
        },
        "id": "3167b0de-c87e-4324-8597-b2592d9f36f3",
        "outputId": "57fca10d-ba59-4cf6-ba7e-3fce892765dd"
      },
      "outputs": [
        {
          "data": {
            "text/html": [
              "<div>\n",
              "<style scoped>\n",
              "    .dataframe tbody tr th:only-of-type {\n",
              "        vertical-align: middle;\n",
              "    }\n",
              "\n",
              "    .dataframe tbody tr th {\n",
              "        vertical-align: top;\n",
              "    }\n",
              "\n",
              "    .dataframe thead th {\n",
              "        text-align: right;\n",
              "    }\n",
              "</style>\n",
              "<table border=\"1\" class=\"dataframe\">\n",
              "  <thead>\n",
              "    <tr style=\"text-align: right;\">\n",
              "      <th></th>\n",
              "      <th>client_id</th>\n",
              "      <th>recency</th>\n",
              "      <th>frequency</th>\n",
              "      <th>monetary</th>\n",
              "    </tr>\n",
              "  </thead>\n",
              "  <tbody>\n",
              "    <tr>\n",
              "      <th>0</th>\n",
              "      <td>68</td>\n",
              "      <td>58</td>\n",
              "      <td>21.900000</td>\n",
              "      <td>12761.167249</td>\n",
              "    </tr>\n",
              "    <tr>\n",
              "      <th>1</th>\n",
              "      <td>227</td>\n",
              "      <td>3</td>\n",
              "      <td>7.511364</td>\n",
              "      <td>82538.014136</td>\n",
              "    </tr>\n",
              "    <tr>\n",
              "      <th>2</th>\n",
              "      <td>485</td>\n",
              "      <td>2</td>\n",
              "      <td>2.911647</td>\n",
              "      <td>68426.284500</td>\n",
              "    </tr>\n",
              "    <tr>\n",
              "      <th>3</th>\n",
              "      <td>549</td>\n",
              "      <td>2</td>\n",
              "      <td>3.670051</td>\n",
              "      <td>131157.535817</td>\n",
              "    </tr>\n",
              "    <tr>\n",
              "      <th>4</th>\n",
              "      <td>795</td>\n",
              "      <td>24</td>\n",
              "      <td>8.345238</td>\n",
              "      <td>18703.021952</td>\n",
              "    </tr>\n",
              "    <tr>\n",
              "      <th>...</th>\n",
              "      <td>...</td>\n",
              "      <td>...</td>\n",
              "      <td>...</td>\n",
              "      <td>...</td>\n",
              "    </tr>\n",
              "    <tr>\n",
              "      <th>14238</th>\n",
              "      <td>2273961</td>\n",
              "      <td>270</td>\n",
              "      <td>64.000000</td>\n",
              "      <td>1634.609356</td>\n",
              "    </tr>\n",
              "    <tr>\n",
              "      <th>14239</th>\n",
              "      <td>2274069</td>\n",
              "      <td>137</td>\n",
              "      <td>23.391304</td>\n",
              "      <td>11245.054405</td>\n",
              "    </tr>\n",
              "    <tr>\n",
              "      <th>14240</th>\n",
              "      <td>2274113</td>\n",
              "      <td>12</td>\n",
              "      <td>5.844262</td>\n",
              "      <td>152505.085233</td>\n",
              "    </tr>\n",
              "    <tr>\n",
              "      <th>14241</th>\n",
              "      <td>2274279</td>\n",
              "      <td>47</td>\n",
              "      <td>29.478261</td>\n",
              "      <td>7192.240734</td>\n",
              "    </tr>\n",
              "    <tr>\n",
              "      <th>14242</th>\n",
              "      <td>2274299</td>\n",
              "      <td>9</td>\n",
              "      <td>3.606061</td>\n",
              "      <td>545915.939372</td>\n",
              "    </tr>\n",
              "  </tbody>\n",
              "</table>\n",
              "<p>14243 rows × 4 columns</p>\n",
              "</div>"
            ],
            "text/plain": [
              "       client_id  recency  frequency       monetary\n",
              "0             68       58  21.900000   12761.167249\n",
              "1            227        3   7.511364   82538.014136\n",
              "2            485        2   2.911647   68426.284500\n",
              "3            549        2   3.670051  131157.535817\n",
              "4            795       24   8.345238   18703.021952\n",
              "...          ...      ...        ...            ...\n",
              "14238    2273961      270  64.000000    1634.609356\n",
              "14239    2274069      137  23.391304   11245.054405\n",
              "14240    2274113       12   5.844262  152505.085233\n",
              "14241    2274279       47  29.478261    7192.240734\n",
              "14242    2274299        9   3.606061  545915.939372\n",
              "\n",
              "[14243 rows x 4 columns]"
            ]
          },
          "execution_count": 15,
          "metadata": {},
          "output_type": "execute_result"
        }
      ],
      "source": [
        "rfm_aggregated"
      ]
    },
    {
      "cell_type": "code",
      "execution_count": 16,
      "id": "38c9d8b6-dcad-4eb8-8525-6ae277d1bc0b",
      "metadata": {
        "colab": {
          "base_uri": "https://localhost:8080/",
          "height": 507
        },
        "id": "38c9d8b6-dcad-4eb8-8525-6ae277d1bc0b",
        "outputId": "d610a61a-78ac-41bf-d082-3696c8c57370"
      },
      "outputs": [
        {
          "data": {
            "image/png": "[encoded data removed]",
            "text/plain": [
              "<Figure size 1500x500 with 3 Axes>"
            ]
          },
          "metadata": {},
          "output_type": "display_data"
        }
      ],
      "source": [
        "# Set up subplots\n",
        "fig, axes = plt.subplots(1, 3, figsize=(15, 5))\n",
        "\n",
        "# Plot histograms for Recency, Frequency, and Monetary Value\n",
        "sns.histplot(rfm_aggregated['recency'], bins=30, kde=True, ax=axes[0], color='skyblue')\n",
        "axes[0].set_title('Recency Histogram')\n",
        "\n",
        "sns.histplot(rfm_aggregated['frequency'], bins=30, kde=True, ax=axes[1], color='salmon')\n",
        "axes[1].set_title('Frequency Histogram')\n",
        "\n",
        "sns.histplot(rfm_aggregated['monetary'], bins=30, kde=True, ax=axes[2], color='green')\n",
        "axes[2].set_title('Monetary Value Histogram')\n",
        "\n",
        "# Adjust layout\n",
        "plt.tight_layout()\n",
        "\n",
        "# Show the plots\n",
        "plt.show()"
      ]
    },
    {
      "cell_type": "code",
      "execution_count": 17,
      "id": "9c78a695-2490-40bd-bcd8-30743901e8c8",
      "metadata": {
        "colab": {
          "base_uri": "https://localhost:8080/",
          "height": 1000
        },
        "id": "9c78a695-2490-40bd-bcd8-30743901e8c8",
        "outputId": "62733ecb-6f75-46d9-9d41-a8422415b5fa"
      },
      "outputs": [
        {
          "data": {
            "image/png": "[encoded data removed]",
            "text/plain": [
              "<Figure size 400x400 with 1 Axes>"
            ]
          },
          "metadata": {},
          "output_type": "display_data"
        },
        {
          "data": {
            "image/png": "[encoded data removed]",
            "text/plain": [
              "<Figure size 400x400 with 1 Axes>"
            ]
          },
          "metadata": {},
          "output_type": "display_data"
        },
        {
          "data": {
            "image/png": "[encoded data removed]",
            "text/plain": [
              "<Figure size 400x400 with 1 Axes>"
            ]
          },
          "metadata": {},
          "output_type": "display_data"
        }
      ],
      "source": [
        "plt.figure(figsize=(4, 4))\n",
        "sns.boxplot(y=rfm_aggregated['recency'])\n",
        "plt.title('Boxplot Recency')\n",
        "plt.show()\n",
        "\n",
        "plt.figure(figsize=(4, 4))\n",
        "sns.boxplot(y=rfm_aggregated['frequency'])\n",
        "plt.title('Boxplot Frequency')\n",
        "plt.show()\n",
        "\n",
        "plt.figure(figsize=(4, 4))\n",
        "sns.boxplot(y=rfm_aggregated['monetary'])\n",
        "plt.title('Boxplot Monezary Value')\n",
        "plt.show()"
      ]
    },
    {
      "cell_type": "markdown",
      "id": "c176254d-593f-415f-b3c5-c7b7c0e3c2cf",
      "metadata": {
        "id": "c176254d-593f-415f-b3c5-c7b7c0e3c2cf"
      },
      "source": [
        "There are many outliers, but the outliers are not \"wrong\" data points just naturally high, therefore we leave them in."
      ]
    },
    {
      "cell_type": "code",
      "execution_count": 18,
      "id": "HyOE111sYqBo",
      "metadata": {
        "id": "HyOE111sYqBo"
      },
      "outputs": [],
      "source": [
        "from sklearn.preprocessing import MinMaxScaler"
      ]
    },
    {
      "cell_type": "code",
      "execution_count": 19,
      "id": "fc393898-3893-4f2c-9ca3-1d98cb101489",
      "metadata": {
        "id": "fc393898-3893-4f2c-9ca3-1d98cb101489"
      },
      "outputs": [],
      "source": [
        "# Scale the separate RFM scores\n",
        "rfm_variables = rfm_aggregated[['recency', 'frequency', 'monetary']]\n",
        "\n",
        "# Initialize the RobustScaler\n",
        "scaler = MinMaxScaler()\n",
        "\n",
        "# Fit and transform the RFM variables\n",
        "rfm_standardized = scaler.fit_transform(rfm_variables)\n",
        "\n",
        "# Create a DataFrame with scaled values\n",
        "df_standardized = pd.DataFrame(rfm_standardized, columns=['recency_scaled', 'frequency_scaled', 'monetary_scaled'])\n",
        "\n",
        "# Include the 'client_id' column in the DataFrame\n",
        "df_standardized['client_id'] = rfm_aggregated['client_id']\n",
        "\n",
        "# Reorder columns to have 'client_id' up front\n",
        "df_standardized = df_standardized[['client_id', 'recency_scaled', 'frequency_scaled', 'monetary_scaled']]"
      ]
    },
    {
      "cell_type": "code",
      "execution_count": 20,
      "id": "805bf811-abb4-45fe-84c6-fa7ef8b8a2f2",
      "metadata": {
        "colab": {
          "base_uri": "https://localhost:8080/",
          "height": 206
        },
        "id": "805bf811-abb4-45fe-84c6-fa7ef8b8a2f2",
        "outputId": "478c3233-5e98-42d5-e53d-f69d1a71538e"
      },
      "outputs": [
        {
          "data": {
            "text/html": [
              "<div>\n",
              "<style scoped>\n",
              "    .dataframe tbody tr th:only-of-type {\n",
              "        vertical-align: middle;\n",
              "    }\n",
              "\n",
              "    .dataframe tbody tr th {\n",
              "        vertical-align: top;\n",
              "    }\n",
              "\n",
              "    .dataframe thead th {\n",
              "        text-align: right;\n",
              "    }\n",
              "</style>\n",
              "<table border=\"1\" class=\"dataframe\">\n",
              "  <thead>\n",
              "    <tr style=\"text-align: right;\">\n",
              "      <th></th>\n",
              "      <th>client_id</th>\n",
              "      <th>recency_scaled</th>\n",
              "      <th>frequency_scaled</th>\n",
              "      <th>monetary_scaled</th>\n",
              "      <th>recency_score</th>\n",
              "      <th>frequency_score</th>\n",
              "      <th>monetary_score</th>\n",
              "      <th>RFM_SCORE</th>\n",
              "    </tr>\n",
              "  </thead>\n",
              "  <tbody>\n",
              "    <tr>\n",
              "      <th>0</th>\n",
              "      <td>68</td>\n",
              "      <td>0.079890</td>\n",
              "      <td>0.035788</td>\n",
              "      <td>0.001429</td>\n",
              "      <td>2</td>\n",
              "      <td>3</td>\n",
              "      <td>3</td>\n",
              "      <td>233</td>\n",
              "    </tr>\n",
              "    <tr>\n",
              "      <th>1</th>\n",
              "      <td>227</td>\n",
              "      <td>0.004132</td>\n",
              "      <td>0.011150</td>\n",
              "      <td>0.009220</td>\n",
              "      <td>4</td>\n",
              "      <td>4</td>\n",
              "      <td>4</td>\n",
              "      <td>444</td>\n",
              "    </tr>\n",
              "    <tr>\n",
              "      <th>2</th>\n",
              "      <td>485</td>\n",
              "      <td>0.002755</td>\n",
              "      <td>0.003273</td>\n",
              "      <td>0.007644</td>\n",
              "      <td>4</td>\n",
              "      <td>4</td>\n",
              "      <td>4</td>\n",
              "      <td>444</td>\n",
              "    </tr>\n",
              "    <tr>\n",
              "      <th>3</th>\n",
              "      <td>549</td>\n",
              "      <td>0.002755</td>\n",
              "      <td>0.004572</td>\n",
              "      <td>0.014649</td>\n",
              "      <td>4</td>\n",
              "      <td>4</td>\n",
              "      <td>4</td>\n",
              "      <td>444</td>\n",
              "    </tr>\n",
              "    <tr>\n",
              "      <th>4</th>\n",
              "      <td>795</td>\n",
              "      <td>0.033058</td>\n",
              "      <td>0.012577</td>\n",
              "      <td>0.002092</td>\n",
              "      <td>3</td>\n",
              "      <td>3</td>\n",
              "      <td>3</td>\n",
              "      <td>333</td>\n",
              "    </tr>\n",
              "  </tbody>\n",
              "</table>\n",
              "</div>"
            ],
            "text/plain": [
              "   client_id  recency_scaled  frequency_scaled  monetary_scaled recency_score  \\\n",
              "0         68        0.079890          0.035788         0.001429             2   \n",
              "1        227        0.004132          0.011150         0.009220             4   \n",
              "2        485        0.002755          0.003273         0.007644             4   \n",
              "3        549        0.002755          0.004572         0.014649             4   \n",
              "4        795        0.033058          0.012577         0.002092             3   \n",
              "\n",
              "  frequency_score monetary_score RFM_SCORE  \n",
              "0               3              3       233  \n",
              "1               4              4       444  \n",
              "2               4              4       444  \n",
              "3               4              4       444  \n",
              "4               3              3       333  "
            ]
          },
          "execution_count": 20,
          "metadata": {},
          "output_type": "execute_result"
        }
      ],
      "source": [
        "# Calculate the RFM scores and add them to the DataFrame\n",
        "def rfm_scores(dataframe):\n",
        "    df_ = dataframe.copy()\n",
        "    df_[\"recency_score\"] = pd.qcut(df_[\"recency_scaled\"], 4, labels=[4, 3, 2, 1])\n",
        "    df_[\"frequency_score\"] = pd.qcut(df_[\"frequency_scaled\"].rank(method=\"first\"), 4, labels=[4, 3, 2, 1])\n",
        "    df_[\"monetary_score\"] = pd.qcut(df_[\"monetary_scaled\"], 4, labels=[1, 2, 3, 4])\n",
        "    df_[\"RFM_SCORE\"] = df_[\"recency_score\"].astype(str) + df_[\"frequency_score\"].astype(str) + df_[\"monetary_score\"].astype(str)\n",
        "\n",
        "    return df_\n",
        "\n",
        "# Apply the function to the DataFrame\n",
        "df_standardized = rfm_scores(df_standardized)\n",
        "df_standardized.head()"
      ]
    },
    {
      "cell_type": "code",
      "execution_count": 21,
      "id": "c0d577bc-89d8-4972-889a-91aba0780d9e",
      "metadata": {
        "colab": {
          "base_uri": "https://localhost:8080/",
          "height": 206
        },
        "id": "c0d577bc-89d8-4972-889a-91aba0780d9e",
        "outputId": "90a86025-6183-4502-f14f-295c385bd558"
      },
      "outputs": [
        {
          "data": {
            "text/html": [
              "<div>\n",
              "<style scoped>\n",
              "    .dataframe tbody tr th:only-of-type {\n",
              "        vertical-align: middle;\n",
              "    }\n",
              "\n",
              "    .dataframe tbody tr th {\n",
              "        vertical-align: top;\n",
              "    }\n",
              "\n",
              "    .dataframe thead th {\n",
              "        text-align: right;\n",
              "    }\n",
              "</style>\n",
              "<table border=\"1\" class=\"dataframe\">\n",
              "  <thead>\n",
              "    <tr style=\"text-align: right;\">\n",
              "      <th></th>\n",
              "      <th>client_id</th>\n",
              "      <th>recency_scaled</th>\n",
              "      <th>frequency_scaled</th>\n",
              "      <th>monetary_scaled</th>\n",
              "      <th>recency_score</th>\n",
              "      <th>frequency_score</th>\n",
              "      <th>monetary_score</th>\n",
              "      <th>RFM_SCORE</th>\n",
              "      <th>Customer_Type</th>\n",
              "    </tr>\n",
              "  </thead>\n",
              "  <tbody>\n",
              "    <tr>\n",
              "      <th>0</th>\n",
              "      <td>68</td>\n",
              "      <td>0.079890</td>\n",
              "      <td>0.035788</td>\n",
              "      <td>0.001429</td>\n",
              "      <td>2</td>\n",
              "      <td>3</td>\n",
              "      <td>3</td>\n",
              "      <td>233</td>\n",
              "      <td>Potential Loyalist</td>\n",
              "    </tr>\n",
              "    <tr>\n",
              "      <th>1</th>\n",
              "      <td>227</td>\n",
              "      <td>0.004132</td>\n",
              "      <td>0.011150</td>\n",
              "      <td>0.009220</td>\n",
              "      <td>4</td>\n",
              "      <td>4</td>\n",
              "      <td>4</td>\n",
              "      <td>444</td>\n",
              "      <td>Champions</td>\n",
              "    </tr>\n",
              "    <tr>\n",
              "      <th>2</th>\n",
              "      <td>485</td>\n",
              "      <td>0.002755</td>\n",
              "      <td>0.003273</td>\n",
              "      <td>0.007644</td>\n",
              "      <td>4</td>\n",
              "      <td>4</td>\n",
              "      <td>4</td>\n",
              "      <td>444</td>\n",
              "      <td>Champions</td>\n",
              "    </tr>\n",
              "    <tr>\n",
              "      <th>3</th>\n",
              "      <td>549</td>\n",
              "      <td>0.002755</td>\n",
              "      <td>0.004572</td>\n",
              "      <td>0.014649</td>\n",
              "      <td>4</td>\n",
              "      <td>4</td>\n",
              "      <td>4</td>\n",
              "      <td>444</td>\n",
              "      <td>Champions</td>\n",
              "    </tr>\n",
              "    <tr>\n",
              "      <th>4</th>\n",
              "      <td>795</td>\n",
              "      <td>0.033058</td>\n",
              "      <td>0.012577</td>\n",
              "      <td>0.002092</td>\n",
              "      <td>3</td>\n",
              "      <td>3</td>\n",
              "      <td>3</td>\n",
              "      <td>333</td>\n",
              "      <td>Loyal Customers</td>\n",
              "    </tr>\n",
              "  </tbody>\n",
              "</table>\n",
              "</div>"
            ],
            "text/plain": [
              "   client_id  recency_scaled  frequency_scaled  monetary_scaled recency_score  \\\n",
              "0         68        0.079890          0.035788         0.001429             2   \n",
              "1        227        0.004132          0.011150         0.009220             4   \n",
              "2        485        0.002755          0.003273         0.007644             4   \n",
              "3        549        0.002755          0.004572         0.014649             4   \n",
              "4        795        0.033058          0.012577         0.002092             3   \n",
              "\n",
              "  frequency_score monetary_score RFM_SCORE       Customer_Type  \n",
              "0               3              3       233  Potential Loyalist  \n",
              "1               4              4       444           Champions  \n",
              "2               4              4       444           Champions  \n",
              "3               4              4       444           Champions  \n",
              "4               3              3       333     Loyal Customers  "
            ]
          },
          "execution_count": 21,
          "metadata": {},
          "output_type": "execute_result"
        }
      ],
      "source": [
        "# Interpret the RFM Score\n",
        "def segment_customers(row):\n",
        "    r, f, m = row['RFM_SCORE']\n",
        "\n",
        "    # Champions\n",
        "    if r == '4' and f == '4':\n",
        "        return 'Champions'\n",
        "    # Loyal Customers\n",
        "    elif r in ['3', '4'] and f in ['3', '4']:\n",
        "        return 'Loyal Customers'\n",
        "    # Potential Loyalist\n",
        "    elif r in ['2', '3', '4'] and f in ['3', '4']:\n",
        "        return 'Potential Loyalist'\n",
        "    # Recent Customers\n",
        "    elif r == '4':\n",
        "        return 'Recent Customers'\n",
        "    # Promising\n",
        "    elif r == '3':\n",
        "        return 'Promising'\n",
        "    # Customers Needing Attention\n",
        "    elif r == '2' and f in ['3', '4']:\n",
        "        return 'Customers Needing Attention'\n",
        "    # About To Sleep\n",
        "    elif r in ['1', '2'] and f in ['1', '2'] and m in ['3', '4']:\n",
        "        return 'About To Sleep'\n",
        "    # At Risk\n",
        "    elif r == '1' and f in ['3', '4'] and m in ['3', '4']:\n",
        "        return 'At Risk'\n",
        "    # Can’t Lose Them\n",
        "    elif r == '1' and f == '4' and m == '1':\n",
        "        return 'Can’t Lose Them'\n",
        "    # Hibernating\n",
        "    elif r == '1' and f in ['1', '2'] and m in ['1', '2']:\n",
        "        return 'Hibernating'\n",
        "    # Lost\n",
        "    elif r == '1' and f in ['3', '4'] and m in ['3', '4']:\n",
        "        return 'Lost'\n",
        "    # Sporadic\n",
        "    else:\n",
        "        return 'Sporadic'\n",
        "\n",
        "# Apply the function to create the new column 'Customer_Type'\n",
        "df_standardized['Customer_Type'] = df_standardized.apply(segment_customers, axis=1)\n",
        "\n",
        "df_standardized.head()"
      ]
    },
    {
      "cell_type": "code",
      "execution_count": 22,
      "id": "1f7ab8f4-8a7a-4ead-9e44-5fb85e666190",
      "metadata": {
        "colab": {
          "base_uri": "https://localhost:8080/",
          "height": 211
        },
        "id": "1f7ab8f4-8a7a-4ead-9e44-5fb85e666190",
        "outputId": "cb03e461-866e-41f3-dc28-aaf999bdbdce"
      },
      "outputs": [
        {
          "data": {
            "application/vnd.plotly.v1+json": {
              "config": {
                "plotlyServerURL": "https://plot.ly"
              },
              "data": [
                {
                  "branchvalues": "total",
                  "domain": {
                    "x": [
                      0,
                      1
                    ],
                    "y": [
                      0,
                      1
                    ]
                  },
                  "hovertemplate": "labels=%{label}<br>Count=%{value}<br>parent=%{parent}<br>id=%{id}<extra></extra>",
                  "ids": [
                    "About To Sleep",
                    "At Risk",
                    "Can’t Lose Them",
                    "Champions",
                    "Hibernating",
                    "Loyal Customers",
                    "Potential Loyalist",
                    "Promising",
                    "Recent Customers",
                    "Sporadic"
                  ],
                  "labels": [
                    "About To Sleep",
                    "At Risk",
                    "Can’t Lose Them",
                    "Champions",
                    "Hibernating",
                    "Loyal Customers",
                    "Potential Loyalist",
                    "Promising",
                    "Recent Customers",
                    "Sporadic"
                  ],
                  "name": "",
                  "parents": [
                    "",
                    "",
                    "",
                    "",
                    "",
                    "",
                    "",
                    "",
                    "",
                    ""
                  ],
                  "type": "treemap",
                  "values": [
                    793,
                    512,
                    247,
                    2187,
                    2026,
                    2726,
                    894,
                    1572,
                    664,
                    2622
                  ]
                }
              ],
              "layout": {
                "legend": {
                  "tracegroupgap": 0
                },
                "template": {
                  "data": {
                    "bar": [
                      {
                        "error_x": {
                          "color": "#2a3f5f"
                        },
                        "error_y": {
                          "color": "#2a3f5f"
                        },
                        "marker": {
                          "line": {
                            "color": "#E5ECF6",
                            "width": 0.5
                          },
                          "pattern": {
                            "fillmode": "overlay",
                            "size": 10,
                            "solidity": 0.2
                          }
                        },
                        "type": "bar"
                      }
                    ],
                    "barpolar": [
                      {
                        "marker": {
                          "line": {
                            "color": "#E5ECF6",
                            "width": 0.5
                          },
                          "pattern": {
                            "fillmode": "overlay",
                            "size": 10,
                            "solidity": 0.2
                          }
                        },
                        "type": "barpolar"
                      }
                    ],
                    "carpet": [
                      {
                        "aaxis": {
                          "endlinecolor": "#2a3f5f",
                          "gridcolor": "white",
                          "linecolor": "white",
                          "minorgridcolor": "white",
                          "startlinecolor": "#2a3f5f"
                        },
                        "baxis": {
                          "endlinecolor": "#2a3f5f",
                          "gridcolor": "white",
                          "linecolor": "white",
                          "minorgridcolor": "white",
                          "startlinecolor": "#2a3f5f"
                        },
                        "type": "carpet"
                      }
                    ],
                    "choropleth": [
                      {
                        "colorbar": {
                          "outlinewidth": 0,
                          "ticks": ""
                        },
                        "type": "choropleth"
                      }
                    ],
                    "contour": [
                      {
                        "colorbar": {
                          "outlinewidth": 0,
                          "ticks": ""
                        },
                        "colorscale": [
                          [
                            0,
                            "#0d0887"
                          ],
                          [
                            0.1111111111111111,
                            "#46039f"
                          ],
                          [
                            0.2222222222222222,
                            "#7201a8"
                          ],
                          [
                            0.3333333333333333,
                            "#9c179e"
                          ],
                          [
                            0.4444444444444444,
                            "#bd3786"
                          ],
                          [
                            0.5555555555555556,
                            "#d8576b"
                          ],
                          [
                            0.6666666666666666,
                            "#ed7953"
                          ],
                          [
                            0.7777777777777778,
                            "#fb9f3a"
                          ],
                          [
                            0.8888888888888888,
                            "#fdca26"
                          ],
                          [
                            1,
                            "#f0f921"
                          ]
                        ],
                        "type": "contour"
                      }
                    ],
                    "contourcarpet": [
                      {
                        "colorbar": {
                          "outlinewidth": 0,
                          "ticks": ""
                        },
                        "type": "contourcarpet"
                      }
                    ],
                    "heatmap": [
                      {
                        "colorbar": {
                          "outlinewidth": 0,
                          "ticks": ""
                        },
                        "colorscale": [
                          [
                            0,
                            "#0d0887"
                          ],
                          [
                            0.1111111111111111,
                            "#46039f"
                          ],
                          [
                            0.2222222222222222,
                            "#7201a8"
                          ],
                          [
                            0.3333333333333333,
                            "#9c179e"
                          ],
                          [
                            0.4444444444444444,
                            "#bd3786"
                          ],
                          [
                            0.5555555555555556,
                            "#d8576b"
                          ],
                          [
                            0.6666666666666666,
                            "#ed7953"
                          ],
                          [
                            0.7777777777777778,
                            "#fb9f3a"
                          ],
                          [
                            0.8888888888888888,
                            "#fdca26"
                          ],
                          [
                            1,
                            "#f0f921"
                          ]
                        ],
                        "type": "heatmap"
                      }
                    ],
                    "heatmapgl": [
                      {
                        "colorbar": {
                          "outlinewidth": 0,
                          "ticks": ""
                        },
                        "colorscale": [
                          [
                            0,
                            "#0d0887"
                          ],
                          [
                            0.1111111111111111,
                            "#46039f"
                          ],
                          [
                            0.2222222222222222,
                            "#7201a8"
                          ],
                          [
                            0.3333333333333333,
                            "#9c179e"
                          ],
                          [
                            0.4444444444444444,
                            "#bd3786"
                          ],
                          [
                            0.5555555555555556,
                            "#d8576b"
                          ],
                          [
                            0.6666666666666666,
                            "#ed7953"
                          ],
                          [
                            0.7777777777777778,
                            "#fb9f3a"
                          ],
                          [
                            0.8888888888888888,
                            "#fdca26"
                          ],
                          [
                            1,
                            "#f0f921"
                          ]
                        ],
                        "type": "heatmapgl"
                      }
                    ],
                    "histogram": [
                      {
                        "marker": {
                          "pattern": {
                            "fillmode": "overlay",
                            "size": 10,
                            "solidity": 0.2
                          }
                        },
                        "type": "histogram"
                      }
                    ],
                    "histogram2d": [
                      {
                        "colorbar": {
                          "outlinewidth": 0,
                          "ticks": ""
                        },
                        "colorscale": [
                          [
                            0,
                            "#0d0887"
                          ],
                          [
                            0.1111111111111111,
                            "#46039f"
                          ],
                          [
                            0.2222222222222222,
                            "#7201a8"
                          ],
                          [
                            0.3333333333333333,
                            "#9c179e"
                          ],
                          [
                            0.4444444444444444,
                            "#bd3786"
                          ],
                          [
                            0.5555555555555556,
                            "#d8576b"
                          ],
                          [
                            0.6666666666666666,
                            "#ed7953"
                          ],
                          [
                            0.7777777777777778,
                            "#fb9f3a"
                          ],
                          [
                            0.8888888888888888,
                            "#fdca26"
                          ],
                          [
                            1,
                            "#f0f921"
                          ]
                        ],
                        "type": "histogram2d"
                      }
                    ],
                    "histogram2dcontour": [
                      {
                        "colorbar": {
                          "outlinewidth": 0,
                          "ticks": ""
                        },
                        "colorscale": [
                          [
                            0,
                            "#0d0887"
                          ],
                          [
                            0.1111111111111111,
                            "#46039f"
                          ],
                          [
                            0.2222222222222222,
                            "#7201a8"
                          ],
                          [
                            0.3333333333333333,
                            "#9c179e"
                          ],
                          [
                            0.4444444444444444,
                            "#bd3786"
                          ],
                          [
                            0.5555555555555556,
                            "#d8576b"
                          ],
                          [
                            0.6666666666666666,
                            "#ed7953"
                          ],
                          [
                            0.7777777777777778,
                            "#fb9f3a"
                          ],
                          [
                            0.8888888888888888,
                            "#fdca26"
                          ],
                          [
                            1,
                            "#f0f921"
                          ]
                        ],
                        "type": "histogram2dcontour"
                      }
                    ],
                    "mesh3d": [
                      {
                        "colorbar": {
                          "outlinewidth": 0,
                          "ticks": ""
                        },
                        "type": "mesh3d"
                      }
                    ],
                    "parcoords": [
                      {
                        "line": {
                          "colorbar": {
                            "outlinewidth": 0,
                            "ticks": ""
                          }
                        },
                        "type": "parcoords"
                      }
                    ],
                    "pie": [
                      {
                        "automargin": true,
                        "type": "pie"
                      }
                    ],
                    "scatter": [
                      {
                        "fillpattern": {
                          "fillmode": "overlay",
                          "size": 10,
                          "solidity": 0.2
                        },
                        "type": "scatter"
                      }
                    ],
                    "scatter3d": [
                      {
                        "line": {
                          "colorbar": {
                            "outlinewidth": 0,
                            "ticks": ""
                          }
                        },
                        "marker": {
                          "colorbar": {
                            "outlinewidth": 0,
                            "ticks": ""
                          }
                        },
                        "type": "scatter3d"
                      }
                    ],
                    "scattercarpet": [
                      {
                        "marker": {
                          "colorbar": {
                            "outlinewidth": 0,
                            "ticks": ""
                          }
                        },
                        "type": "scattercarpet"
                      }
                    ],
                    "scattergeo": [
                      {
                        "marker": {
                          "colorbar": {
                            "outlinewidth": 0,
                            "ticks": ""
                          }
                        },
                        "type": "scattergeo"
                      }
                    ],
                    "scattergl": [
                      {
                        "marker": {
                          "colorbar": {
                            "outlinewidth": 0,
                            "ticks": ""
                          }
                        },
                        "type": "scattergl"
                      }
                    ],
                    "scattermapbox": [
                      {
                        "marker": {
                          "colorbar": {
                            "outlinewidth": 0,
                            "ticks": ""
                          }
                        },
                        "type": "scattermapbox"
                      }
                    ],
                    "scatterpolar": [
                      {
                        "marker": {
                          "colorbar": {
                            "outlinewidth": 0,
                            "ticks": ""
                          }
                        },
                        "type": "scatterpolar"
                      }
                    ],
                    "scatterpolargl": [
                      {
                        "marker": {
                          "colorbar": {
                            "outlinewidth": 0,
                            "ticks": ""
                          }
                        },
                        "type": "scatterpolargl"
                      }
                    ],
                    "scatterternary": [
                      {
                        "marker": {
                          "colorbar": {
                            "outlinewidth": 0,
                            "ticks": ""
                          }
                        },
                        "type": "scatterternary"
                      }
                    ],
                    "surface": [
                      {
                        "colorbar": {
                          "outlinewidth": 0,
                          "ticks": ""
                        },
                        "colorscale": [
                          [
                            0,
                            "#0d0887"
                          ],
                          [
                            0.1111111111111111,
                            "#46039f"
                          ],
                          [
                            0.2222222222222222,
                            "#7201a8"
                          ],
                          [
                            0.3333333333333333,
                            "#9c179e"
                          ],
                          [
                            0.4444444444444444,
                            "#bd3786"
                          ],
                          [
                            0.5555555555555556,
                            "#d8576b"
                          ],
                          [
                            0.6666666666666666,
                            "#ed7953"
                          ],
                          [
                            0.7777777777777778,
                            "#fb9f3a"
                          ],
                          [
                            0.8888888888888888,
                            "#fdca26"
                          ],
                          [
                            1,
                            "#f0f921"
                          ]
                        ],
                        "type": "surface"
                      }
                    ],
                    "table": [
                      {
                        "cells": {
                          "fill": {
                            "color": "#EBF0F8"
                          },
                          "line": {
                            "color": "white"
                          }
                        },
                        "header": {
                          "fill": {
                            "color": "#C8D4E3"
                          },
                          "line": {
                            "color": "white"
                          }
                        },
                        "type": "table"
                      }
                    ]
                  },
                  "layout": {
                    "annotationdefaults": {
                      "arrowcolor": "#2a3f5f",
                      "arrowhead": 0,
                      "arrowwidth": 1
                    },
                    "autotypenumbers": "strict",
                    "coloraxis": {
                      "colorbar": {
                        "outlinewidth": 0,
                        "ticks": ""
                      }
                    },
                    "colorscale": {
                      "diverging": [
                        [
                          0,
                          "#8e0152"
                        ],
                        [
                          0.1,
                          "#c51b7d"
                        ],
                        [
                          0.2,
                          "#de77ae"
                        ],
                        [
                          0.3,
                          "#f1b6da"
                        ],
                        [
                          0.4,
                          "#fde0ef"
                        ],
                        [
                          0.5,
                          "#f7f7f7"
                        ],
                        [
                          0.6,
                          "#e6f5d0"
                        ],
                        [
                          0.7,
                          "#b8e186"
                        ],
                        [
                          0.8,
                          "#7fbc41"
                        ],
                        [
                          0.9,
                          "#4d9221"
                        ],
                        [
                          1,
                          "#276419"
                        ]
                      ],
                      "sequential": [
                        [
                          0,
                          "#0d0887"
                        ],
                        [
                          0.1111111111111111,
                          "#46039f"
                        ],
                        [
                          0.2222222222222222,
                          "#7201a8"
                        ],
                        [
                          0.3333333333333333,
                          "#9c179e"
                        ],
                        [
                          0.4444444444444444,
                          "#bd3786"
                        ],
                        [
                          0.5555555555555556,
                          "#d8576b"
                        ],
                        [
                          0.6666666666666666,
                          "#ed7953"
                        ],
                        [
                          0.7777777777777778,
                          "#fb9f3a"
                        ],
                        [
                          0.8888888888888888,
                          "#fdca26"
                        ],
                        [
                          1,
                          "#f0f921"
                        ]
                      ],
                      "sequentialminus": [
                        [
                          0,
                          "#0d0887"
                        ],
                        [
                          0.1111111111111111,
                          "#46039f"
                        ],
                        [
                          0.2222222222222222,
                          "#7201a8"
                        ],
                        [
                          0.3333333333333333,
                          "#9c179e"
                        ],
                        [
                          0.4444444444444444,
                          "#bd3786"
                        ],
                        [
                          0.5555555555555556,
                          "#d8576b"
                        ],
                        [
                          0.6666666666666666,
                          "#ed7953"
                        ],
                        [
                          0.7777777777777778,
                          "#fb9f3a"
                        ],
                        [
                          0.8888888888888888,
                          "#fdca26"
                        ],
                        [
                          1,
                          "#f0f921"
                        ]
                      ]
                    },
                    "colorway": [
                      "#636efa",
                      "#EF553B",
                      "#00cc96",
                      "#ab63fa",
                      "#FFA15A",
                      "#19d3f3",
                      "#FF6692",
                      "#B6E880",
                      "#FF97FF",
                      "#FECB52"
                    ],
                    "font": {
                      "color": "#2a3f5f"
                    },
                    "geo": {
                      "bgcolor": "white",
                      "lakecolor": "white",
                      "landcolor": "#E5ECF6",
                      "showlakes": true,
                      "showland": true,
                      "subunitcolor": "white"
                    },
                    "hoverlabel": {
                      "align": "left"
                    },
                    "hovermode": "closest",
                    "mapbox": {
                      "style": "light"
                    },
                    "paper_bgcolor": "white",
                    "plot_bgcolor": "#E5ECF6",
                    "polar": {
                      "angularaxis": {
                        "gridcolor": "white",
                        "linecolor": "white",
                        "ticks": ""
                      },
                      "bgcolor": "#E5ECF6",
                      "radialaxis": {
                        "gridcolor": "white",
                        "linecolor": "white",
                        "ticks": ""
                      }
                    },
                    "scene": {
                      "xaxis": {
                        "backgroundcolor": "#E5ECF6",
                        "gridcolor": "white",
                        "gridwidth": 2,
                        "linecolor": "white",
                        "showbackground": true,
                        "ticks": "",
                        "zerolinecolor": "white"
                      },
                      "yaxis": {
                        "backgroundcolor": "#E5ECF6",
                        "gridcolor": "white",
                        "gridwidth": 2,
                        "linecolor": "white",
                        "showbackground": true,
                        "ticks": "",
                        "zerolinecolor": "white"
                      },
                      "zaxis": {
                        "backgroundcolor": "#E5ECF6",
                        "gridcolor": "white",
                        "gridwidth": 2,
                        "linecolor": "white",
                        "showbackground": true,
                        "ticks": "",
                        "zerolinecolor": "white"
                      }
                    },
                    "shapedefaults": {
                      "line": {
                        "color": "#2a3f5f"
                      }
                    },
                    "ternary": {
                      "aaxis": {
                        "gridcolor": "white",
                        "linecolor": "white",
                        "ticks": ""
                      },
                      "baxis": {
                        "gridcolor": "white",
                        "linecolor": "white",
                        "ticks": ""
                      },
                      "bgcolor": "#E5ECF6",
                      "caxis": {
                        "gridcolor": "white",
                        "linecolor": "white",
                        "ticks": ""
                      }
                    },
                    "title": {
                      "x": 0.05
                    },
                    "xaxis": {
                      "automargin": true,
                      "gridcolor": "white",
                      "linecolor": "white",
                      "ticks": "",
                      "title": {
                        "standoff": 15
                      },
                      "zerolinecolor": "white",
                      "zerolinewidth": 2
                    },
                    "yaxis": {
                      "automargin": true,
                      "gridcolor": "white",
                      "linecolor": "white",
                      "ticks": "",
                      "title": {
                        "standoff": 15
                      },
                      "zerolinecolor": "white",
                      "zerolinewidth": 2
                    }
                  }
                },
                "title": {
                  "text": "Customer Segmentation Treemap"
                }
              }
            }
          },
          "metadata": {},
          "output_type": "display_data"
        }
      ],
      "source": [
        "customer_segment_counts = df_standardized['Customer_Type'].value_counts().reset_index()\n",
        "customer_segment_counts.columns = ['Customer_Type', 'Count']\n",
        "\n",
        "# Create a Treemap\n",
        "fig = px.treemap(customer_segment_counts, path=['Customer_Type'], values='Count',\n",
        "                 title='Customer Segmentation Treemap')\n",
        "\n",
        "fig.show()"
      ]
    },
    {
      "cell_type": "markdown",
      "id": "c4ad6647",
      "metadata": {},
      "source": [
        "![](newplot.png)"
      ]
    },
    {
      "cell_type": "code",
      "execution_count": null,
      "id": "9f25dc13-257d-4904-beb3-699080ac9bd4",
      "metadata": {
        "id": "9f25dc13-257d-4904-beb3-699080ac9bd4"
      },
      "outputs": [],
      "source": [
        "columns_to_drop = ['recency_score', 'monetary_score', 'frequency_score']\n",
        "\n",
        "df_standardized = df_standardized.drop(columns=columns_to_drop)"
      ]
    },
    {
      "cell_type": "markdown",
      "id": "9b781746-3849-4e23-82d4-8a025d92469c",
      "metadata": {
        "id": "9b781746-3849-4e23-82d4-8a025d92469c"
      },
      "source": [
        "##### Merge RFM Scores with the original Dataset"
      ]
    },
    {
      "cell_type": "code",
      "execution_count": null,
      "id": "72978ea9-ce7b-4558-b2fd-bc414c71d5c5",
      "metadata": {
        "id": "72978ea9-ce7b-4558-b2fd-bc414c71d5c5"
      },
      "outputs": [],
      "source": [
        "# Change name based on which Dataset you're currently working on\n",
        "data_merged_train = pd.merge(rfm_data, df_standardized, on='client_id', how='left')"
      ]
    },
    {
      "cell_type": "code",
      "execution_count": null,
      "id": "33425bd2-be3a-4833-ac13-a4ffbcddf414",
      "metadata": {
        "colab": {
          "background_save": true
        },
        "id": "33425bd2-be3a-4833-ac13-a4ffbcddf414"
      },
      "outputs": [],
      "source": [
        "data_test_merged.to_csv('data_test_rfm.csv', index=False)"
      ]
    },
    {
      "cell_type": "code",
      "execution_count": null,
      "id": "f66db960",
      "metadata": {},
      "outputs": [],
      "source": [
        "data_merged_train.to_csv('data_train_rfm.csv')"
      ]
    },
    {
      "cell_type": "markdown",
      "id": "98aa92ca-78b4-4692-a990-07a66334ea31",
      "metadata": {
        "id": "98aa92ca-78b4-4692-a990-07a66334ea31"
      },
      "source": [
        "# Churn Propensity Model"
      ]
    },
    {
      "cell_type": "code",
      "execution_count": null,
      "id": "bad5e87e-70a4-4bfe-a04f-4ef2cc8f7e1d",
      "metadata": {
        "id": "bad5e87e-70a4-4bfe-a04f-4ef2cc8f7e1d"
      },
      "outputs": [],
      "source": [
        "from sklearn.model_selection import train_test_split\n",
        "from sklearn.ensemble import RandomForestClassifier\n",
        "from sklearn.metrics import classification_report, confusion_matrix"
      ]
    },
    {
      "cell_type": "markdown",
      "id": "794d4aa0-adb9-4bb7-af3a-136d4154255c",
      "metadata": {
        "id": "794d4aa0-adb9-4bb7-af3a-136d4154255c"
      },
      "source": [
        "##### Upload previously created datasets"
      ]
    },
    {
      "cell_type": "code",
      "execution_count": null,
      "id": "3f5df823-a337-4be4-80d6-8b4a3c7e5ce8",
      "metadata": {
        "id": "3f5df823-a337-4be4-80d6-8b4a3c7e5ce8"
      },
      "outputs": [],
      "source": [
        "# Specify the columns you want to include\n",
        "selected_columns = ['client_id','sales_net', 'RFM_SCORE','quantity', 'product_price',\n",
        "                    'order_channel_at the store', 'order_channel_by phone', 'order_channel_during the visit of a sales rep',\n",
        "                    'order_channel_online', 'order_channel_other', 'mean_purchase_frequency_days',\n",
        "                    'latest_purchase_days', 'churned']\n",
        "\n",
        "data_train = pd.read_csv('data_train_rfm.csv', usecols=selected_columns)"
      ]
    },
    {
      "cell_type": "code",
      "execution_count": null,
      "id": "533f6853-b9c5-4536-8c24-084b329a969e",
      "metadata": {
        "id": "533f6853-b9c5-4536-8c24-084b329a969e"
      },
      "outputs": [],
      "source": [
        "# Specify the columns you want to include\n",
        "selected_columns = ['client_id','sales_net', 'RFM_SCORE','quantity', 'product_price',\n",
        "                    'order_channel_at the store', 'order_channel_by phone', 'order_channel_during the visit of a sales rep',\n",
        "                    'order_channel_online', 'order_channel_other', 'mean_purchase_frequency_days',\n",
        "                    'latest_purchase_days', 'churned']\n",
        "\n",
        "data_test = pd.read_csv('data_test_rfm.csv', usecols=selected_columns)"
      ]
    },
    {
      "cell_type": "code",
      "execution_count": null,
      "id": "sn4MEy1jgMBW",
      "metadata": {
        "id": "sn4MEy1jgMBW"
      },
      "outputs": [],
      "source": [
        "data_train.rename(columns={'latest_purchase_days_x': 'latest_purchase_days'}, inplace=True)"
      ]
    },
    {
      "cell_type": "code",
      "execution_count": null,
      "id": "13b88a3f-e2e9-4445-8b9c-e2747da01766",
      "metadata": {
        "id": "13b88a3f-e2e9-4445-8b9c-e2747da01766"
      },
      "outputs": [],
      "source": [
        "#Make RFM Score numeric\n",
        "data_train['RFM_SCORE'] = pd.to_numeric(data_train['RFM_SCORE'], errors='coerce')\n",
        "data_test['RFM_SCORE'] = pd.to_numeric(data_test['RFM_SCORE'], errors='coerce')"
      ]
    },
    {
      "cell_type": "code",
      "execution_count": null,
      "id": "4766f3ca-b706-4032-bec6-b5af72796fc0",
      "metadata": {
        "colab": {
          "base_uri": "https://localhost:8080/"
        },
        "id": "4766f3ca-b706-4032-bec6-b5af72796fc0",
        "outputId": "1079a0aa-5932-4e10-aa00-59239c3ca055"
      },
      "outputs": [
        {
          "name": "stderr",
          "output_type": "stream",
          "text": [
            "<ipython-input-61-6c666f24d037>:2: FutureWarning: The default value of numeric_only in DataFrameGroupBy.mean is deprecated. In a future version, numeric_only will default to False. Either specify numeric_only or select only columns which should be valid for the function.\n",
            "  grouped_data_train = data_train.groupby('client_id').agg('mean').reset_index()\n",
            "<ipython-input-61-6c666f24d037>:20: FutureWarning: The default value of numeric_only in DataFrameGroupBy.mean is deprecated. In a future version, numeric_only will default to False. Either specify numeric_only or select only columns which should be valid for the function.\n",
            "  grouped_data_test = data_test.groupby('client_id').agg('mean').reset_index()\n"
          ]
        }
      ],
      "source": [
        "# Use the entire 'data_merged_train' as the training set\n",
        "grouped_data_train = data_train.groupby('client_id').agg('mean').reset_index()\n",
        "\n",
        "# Select relevant columns for modeling\n",
        "selected_columns_train = ['sales_net', 'RFM_SCORE', 'quantity', 'product_price',\n",
        "                           'order_channel_at the store', 'order_channel_by phone', 'order_channel_during the visit of a sales rep',\n",
        "                           'order_channel_online', 'order_channel_other', 'latest_purchase_days', 'std_time_diff','churned']\n",
        "\n",
        "# Create a new DataFrame with selected columns for training\n",
        "selected_data_train = grouped_data_train[selected_columns_train].copy()\n",
        "\n",
        "# Handle missing values if any\n",
        "selected_data_train = selected_data_train.dropna()\n",
        "\n",
        "# Separate features (X_train) and target variable (y_train)\n",
        "X_train = selected_data_train.drop('churned', axis=1)\n",
        "y_train = selected_data_train['churned']\n",
        "\n",
        "# Use the entire 'data_merged_test_subset' as the testing set\n",
        "grouped_data_test = data_test.groupby('client_id').agg('mean').reset_index()"
      ]
    },
    {
      "cell_type": "code",
      "execution_count": null,
      "id": "6ef6c58c-03e2-4e6a-a7a3-3cae9a1d7f71",
      "metadata": {
        "colab": {
          "base_uri": "https://localhost:8080/"
        },
        "id": "6ef6c58c-03e2-4e6a-a7a3-3cae9a1d7f71",
        "outputId": "85e50081-600b-4266-8d23-50c44cc46583"
      },
      "outputs": [
        {
          "name": "stderr",
          "output_type": "stream",
          "text": [
            "<ipython-input-62-22b815466b3d>:2: FutureWarning: The default value of numeric_only in DataFrameGroupBy.mean is deprecated. In a future version, numeric_only will default to False. Either specify numeric_only or select only columns which should be valid for the function.\n",
            "  grouped_data_test = data_test.groupby('client_id').agg('mean').reset_index()\n"
          ]
        }
      ],
      "source": [
        "# Use the entire 'data_merged_test_subset' as the testing set\n",
        "grouped_data_test = data_test.groupby('client_id').agg('mean').reset_index()\n",
        "\n",
        "# Take a number of rows from 'data_merged_test' equal to 25% of the number of rows in 'data_train'\n",
        "num_rows_test = int(0.25 * len(grouped_data_train))\n",
        "data_test_subset = grouped_data_test.sample(n=num_rows_test, random_state=42)\n",
        "\n",
        "# Select relevant columns for modeling\n",
        "selected_columns_test = ['sales_net', 'RFM_SCORE', 'quantity', 'product_price',\n",
        "                          'order_channel_at the store', 'order_channel_by phone', 'order_channel_during the visit of a sales rep',\n",
        "                          'order_channel_online', 'order_channel_other', 'latest_purchase_days','std_time_diff', 'churned']\n",
        "\n",
        "# Create a new DataFrame with selected columns for testing\n",
        "selected_data_test = data_test_subset[selected_columns_test].copy()\n",
        "\n",
        "# Handle missing values if any\n",
        "selected_data_test = selected_data_test.dropna()\n",
        "\n",
        "# Separate features (X_test) and target variable (y_test)\n",
        "X_test = selected_data_test.drop('churned', axis=1)\n",
        "y_test = selected_data_test['churned']"
      ]
    },
    {
      "cell_type": "code",
      "execution_count": null,
      "id": "faeeb137-2dc6-4e82-b05c-a6cdfc9a57e7",
      "metadata": {
        "colab": {
          "base_uri": "https://localhost:8080/"
        },
        "id": "faeeb137-2dc6-4e82-b05c-a6cdfc9a57e7",
        "outputId": "877a08b7-3d5a-4f07-ae89-0313be30bd69"
      },
      "outputs": [
        {
          "name": "stdout",
          "output_type": "stream",
          "text": [
            "Performance on the testing set:\n",
            "              precision    recall  f1-score   support\n",
            "\n",
            "         0.0       0.97      0.99      0.98      2289\n",
            "         1.0       0.98      0.94      0.96      1038\n",
            "\n",
            "    accuracy                           0.98      3327\n",
            "   macro avg       0.98      0.96      0.97      3327\n",
            "weighted avg       0.98      0.98      0.98      3327\n",
            "\n",
            "Confusion Matrix:\n",
            "[[2272   17]\n",
            " [  65  973]]\n"
          ]
        }
      ],
      "source": [
        "# Initialize the model\n",
        "model = RandomForestClassifier(random_state=42)\n",
        "\n",
        "# Train the model on the training set\n",
        "model.fit(X_train, y_train)\n",
        "\n",
        "# Get the probability estimates for the positive class (churn)\n",
        "y_pred_proba = model.predict_proba(X_test)[:, 1]  # Probability for class 1 (churn)\n",
        "\n",
        "# Create a new column for predicted probabilities in the testing set DataFrame\n",
        "selected_data_test['churn_probability'] = y_pred_proba\n",
        "\n",
        "# Label clients as churned if the probability is higher than the given threshold\n",
        "threshold = 0.6\n",
        "selected_data_test['churned'] = (y_pred_proba > threshold).astype(int)\n",
        "\n",
        "# Evaluate model performance on the testing set\n",
        "y_pred_binary = (y_pred_proba > 0.6).astype(int)  # Binary predictions based on threshold\n",
        "print('Performance on the testing set:')\n",
        "print(classification_report(y_test, y_pred_binary))\n",
        "print('Confusion Matrix:')\n",
        "print(confusion_matrix(y_test, y_pred_binary))"
      ]
    },
    {
      "cell_type": "code",
      "execution_count": null,
      "id": "C8d_3g7dhChM",
      "metadata": {
        "colab": {
          "base_uri": "https://localhost:8080/",
          "height": 581
        },
        "id": "C8d_3g7dhChM",
        "outputId": "2378c4df-fec4-4e46-8ef5-c941f0789e8d"
      },
      "outputs": [
        {
          "data": {
            "image/png": "[encoded data removed]",
            "text/plain": [
              "<Figure size 800x600 with 1 Axes>"
            ]
          },
          "metadata": {},
          "output_type": "display_data"
        },
        {
          "name": "stdout",
          "output_type": "stream",
          "text": [
            "ROC-AUC Score: 0.9978789822481821\n"
          ]
        }
      ],
      "source": [
        "from sklearn.metrics import roc_curve, roc_auc_score\n",
        "import matplotlib.pyplot as plt\n",
        "\n",
        "# Compute ROC curve and ROC-AUC score\n",
        "fpr, tpr, thresholds = roc_curve(y_test, y_pred_proba)\n",
        "roc_auc = roc_auc_score(y_test, y_pred_proba)\n",
        "\n",
        "# Plot ROC curve\n",
        "plt.figure(figsize=(8, 6))\n",
        "plt.plot(fpr, tpr, color='darkorange', lw=2, label='ROC curve (AUC = {:.2f})'.format(roc_auc))\n",
        "plt.plot([0, 1], [0, 1], color='navy', lw=2, linestyle='--')\n",
        "plt.xlabel('False Positive Rate')\n",
        "plt.ylabel('True Positive Rate')\n",
        "plt.title('Receiver Operating Characteristic (ROC) Curve')\n",
        "plt.legend(loc='lower right')\n",
        "plt.show()\n",
        "\n",
        "# Display ROC-AUC score\n",
        "print('ROC-AUC Score:', roc_auc)"
      ]
    },
    {
      "cell_type": "code",
      "execution_count": null,
      "id": "f11f445b-3d0b-4585-9106-180658a23aef",
      "metadata": {
        "colab": {
          "base_uri": "https://localhost:8080/",
          "height": 718
        },
        "id": "f11f445b-3d0b-4585-9106-180658a23aef",
        "outputId": "89843415-8a55-4388-8a90-be665b2f4f09"
      },
      "outputs": [
        {
          "data": {
            "image/png": "[encoded data removed]",
            "text/plain": [
              "<Figure size 1200x800 with 1 Axes>"
            ]
          },
          "metadata": {},
          "output_type": "display_data"
        }
      ],
      "source": [
        "# Get feature importances\n",
        "feature_importances = model.feature_importances_\n",
        "\n",
        "# Create a DataFrame to better visualize the feature importances\n",
        "feature_importance_df = pd.DataFrame({'Feature': X_train.columns, 'Importance': feature_importances})\n",
        "\n",
        "# Sort the DataFrame by importance in descending order\n",
        "feature_importance_df = feature_importance_df.sort_values(by='Importance', ascending=False)\n",
        "\n",
        "# Plot the feature importances\n",
        "plt.figure(figsize=(12, 8))\n",
        "plt.barh(feature_importance_df['Feature'], feature_importance_df['Importance'])\n",
        "plt.xlabel('Importance')\n",
        "plt.title('Random Forest Feature Importance')\n",
        "plt.show()"
      ]
    }
  ],
  "metadata": {
    "accelerator": "GPU",
    "colab": {
      "gpuType": "A100",
      "machine_shape": "hm",
      "provenance": []
    },
    "kernelspec": {
      "display_name": "Python 3",
      "name": "python3"
    },
    "language_info": {
      "codemirror_mode": {
        "name": "ipython",
        "version": 3
      },
      "file_extension": ".py",
      "mimetype": "text/x-python",
      "name": "python",
      "nbconvert_exporter": "python",
      "pygments_lexer": "ipython3",
      "version": "3.11.8"
    }
  },
  "nbformat": 4,
  "nbformat_minor": 5
}
