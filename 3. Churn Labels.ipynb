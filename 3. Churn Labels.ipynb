{
  "cells": [
    {
      "cell_type": "code",
      "execution_count": 1,
      "id": "d12f8927-491e-4265-b269-d15b9ee89cfa",
      "metadata": {
        "id": "d12f8927-491e-4265-b269-d15b9ee89cfa"
      },
      "outputs": [
        {
          "name": "stderr",
          "output_type": "stream",
          "text": [
            "C:\\Users\\Luka\\AppData\\Local\\Temp\\ipykernel_3180\\2772924476.py:3: DeprecationWarning: \n",
            "Pyarrow will become a required dependency of pandas in the next major release of pandas (pandas 3.0),\n",
            "(to allow more performant data types, such as the Arrow string type, and better interoperability with other libraries)\n",
            "but was not found to be installed on your system.\n",
            "If this would cause problems for you,\n",
            "please provide us feedback at https://github.com/pandas-dev/pandas/issues/54466\n",
            "        \n",
            "  import pandas as pd\n"
          ]
        }
      ],
      "source": [
        "from sklearn.cluster import KMeans\n",
        "from sklearn.preprocessing import StandardScaler\n",
        "import pandas as pd\n",
        "# ^^^ pyforest auto-imports - don't write above this line"
      ]
    },
    {
      "cell_type": "code",
      "execution_count": 2,
      "id": "be39d890",
      "metadata": {},
      "outputs": [],
      "source": [
        "import numpy as np"
      ]
    },
    {
      "cell_type": "code",
      "execution_count": 3,
      "id": "8ca796a7-eeff-4c84-a7dd-7d192fb91de1",
      "metadata": {
        "id": "8ca796a7-eeff-4c84-a7dd-7d192fb91de1"
      },
      "outputs": [],
      "source": [
        "file_path = \"final_dataset_b2b.csv\"\n",
        "data = pd.read_csv(file_path)"
      ]
    },
    {
      "cell_type": "code",
      "execution_count": 4,
      "id": "bb0dd2fe-3493-40a5-b4e1-74addfd1186a",
      "metadata": {
        "colab": {
          "base_uri": "https://localhost:8080/"
        },
        "id": "bb0dd2fe-3493-40a5-b4e1-74addfd1186a",
        "outputId": "e56a57c1-6d0b-48af-82fb-8d75d2350996"
      },
      "outputs": [
        {
          "name": "stdout",
          "output_type": "stream",
          "text": [
            "<class 'pandas.core.frame.DataFrame'>\n",
            "RangeIndex: 63160893 entries, 0 to 63160892\n",
            "Data columns (total 16 columns):\n",
            " #   Column                                         Dtype  \n",
            "---  ------                                         -----  \n",
            " 0   date_order                                     object \n",
            " 1   date_invoice                                   object \n",
            " 2   product_id                                     int64  \n",
            " 3   client_id                                      int64  \n",
            " 4   sales_net                                      float64\n",
            " 5   quantity                                       int64  \n",
            " 6   branch_id                                      int64  \n",
            " 7   product_price                                  float64\n",
            " 8   order_channel_at the store                     bool   \n",
            " 9   order_channel_by phone                         bool   \n",
            " 10  order_channel_during the visit of a sales rep  bool   \n",
            " 11  order_channel_online                           bool   \n",
            " 12  order_channel_other                            bool   \n",
            " 13  time_diff                                      float64\n",
            " 14  mean_purchase_frequency_days                   int64  \n",
            " 15  cluster                                        int64  \n",
            "dtypes: bool(5), float64(3), int64(6), object(2)\n",
            "memory usage: 5.5+ GB\n"
          ]
        }
      ],
      "source": [
        "data.info()"
      ]
    },
    {
      "cell_type": "code",
      "execution_count": 5,
      "id": "9c86776f-2f1f-4096-b7aa-deaaaa2142be",
      "metadata": {
        "id": "9c86776f-2f1f-4096-b7aa-deaaaa2142be",
        "outputId": "70198a9a-01f1-49c4-a903-2cd62734169e"
      },
      "outputs": [
        {
          "name": "stdout",
          "output_type": "stream",
          "text": [
            "Number of unique client IDs: 142436\n"
          ]
        }
      ],
      "source": [
        "num_unique_clients = data['client_id'].nunique()\n",
        "\n",
        "print(\"Number of unique client IDs:\", num_unique_clients)"
      ]
    },
    {
      "cell_type": "markdown",
      "id": "5cf9eb1d-d6c9-4d77-a14d-ee32ffe5106b",
      "metadata": {
        "id": "5cf9eb1d-d6c9-4d77-a14d-ee32ffe5106b"
      },
      "source": [
        "### Add Churn Labels"
      ]
    },
    {
      "cell_type": "markdown",
      "id": "ab18fe55-6d1d-46be-9621-1eb7b5daaebf",
      "metadata": {
        "id": "ab18fe55-6d1d-46be-9621-1eb7b5daaebf"
      },
      "source": [
        "##### Devision of df to prevent data leakage"
      ]
    },
    {
      "cell_type": "code",
      "execution_count": 6,
      "id": "e3678022-6484-406f-a149-3d7690f10509",
      "metadata": {
        "id": "e3678022-6484-406f-a149-3d7690f10509"
      },
      "outputs": [],
      "source": [
        "data['date_order'] = pd.to_datetime(data['date_order'])\n",
        "\n",
        "# Create a random subset of 10% of clients\n",
        "random_clients = data['client_id'].unique()\n",
        "np.random.seed(23)\n",
        "np.random.shuffle(random_clients)\n",
        "random_clients_subset = random_clients[:int(0.1 * len(random_clients))]\n",
        "\n",
        "# Create DataFrames for the random subset and the remaining clients\n",
        "random_subset_df = data[data['client_id'].isin(random_clients_subset)].copy()\n",
        "remaining_clients_df = data[~data['client_id'].isin(random_clients_subset)].copy()"
      ]
    },
    {
      "cell_type": "code",
      "execution_count": 7,
      "id": "32876c20-6a4b-4091-aba0-6edc6851d411",
      "metadata": {
        "id": "32876c20-6a4b-4091-aba0-6edc6851d411"
      },
      "outputs": [],
      "source": [
        "data_for_rfm = remaining_clients_df"
      ]
    },
    {
      "cell_type": "code",
      "execution_count": 8,
      "id": "8a56183f-771c-4ba5-879e-579d9d89ec7b",
      "metadata": {
        "id": "8a56183f-771c-4ba5-879e-579d9d89ec7b"
      },
      "outputs": [],
      "source": [
        "# Find the latest purchase date for each client in the random subset\n",
        "latest_purchase_dates = data_for_rfm.groupby('client_id')['date_order'].max().reset_index()\n",
        "\n",
        "# Calculate the difference in days from each client's latest purchase to the entire dataset's latest purchase\n",
        "latest_dataset_purchase_date = data_for_rfm['date_order'].max()\n",
        "latest_purchase_dates['latest_purchase_days'] = (latest_dataset_purchase_date - latest_purchase_dates['date_order']).dt.days"
      ]
    },
    {
      "cell_type": "code",
      "execution_count": 9,
      "id": "d1810a3d-9c6e-4b3e-aed2-f0f3cdc95d0f",
      "metadata": {
        "id": "d1810a3d-9c6e-4b3e-aed2-f0f3cdc95d0f"
      },
      "outputs": [],
      "source": [
        "# Merge the calculated values back into the random subset DataFrame\n",
        "data_for_rfm = pd.merge(data_for_rfm, latest_purchase_dates[['client_id', 'latest_purchase_days']], on='client_id', how='left')\n",
        "\n",
        "# Filter out rows where 'time_diff' is 0 before calculating mean and std\n",
        "filtered_data_for_rfm = data_for_rfm[data_for_rfm['time_diff'] != 0]\n",
        "\n",
        "# Calculate mean and std for each unique client based on 'time_diff_numeric'\n",
        "client_stats = filtered_data_for_rfm.groupby('client_id')['time_diff'].agg(['mean', 'std']).reset_index()\n",
        "\n",
        "# Merge the client-specific statistics back into the random subset DataFrame\n",
        "data_for_rfm = pd.merge(data_for_rfm, client_stats, on='client_id', how='left')\n",
        "\n",
        "# Rename columns for clarity\n",
        "data_for_rfm.rename(columns={'mean': 'purchase_frequency', 'std': 'std_time_diff'}, inplace=True)"
      ]
    },
    {
      "cell_type": "code",
      "execution_count": 10,
      "id": "4b90f846-6c7d-490b-8f1b-e4962fa99f31",
      "metadata": {
        "id": "4b90f846-6c7d-490b-8f1b-e4962fa99f31"
      },
      "outputs": [],
      "source": [
        "# Add a new column \"churned\" based on the conditions\n",
        "data_for_rfm['churned'] = 0  # Initialize with 0 for all rows\n",
        "data_for_rfm.loc[data_for_rfm['latest_purchase_days'] > (1.5 * data_for_rfm['std_time_diff'] + data_for_rfm['purchase_frequency']), 'churned'] = 1"
      ]
    },
    {
      "cell_type": "code",
      "execution_count": 11,
      "id": "83f9b7ca-8211-4899-968f-b923cdd244be",
      "metadata": {
        "colab": {
          "base_uri": "https://localhost:8080/",
          "height": 261
        },
        "id": "83f9b7ca-8211-4899-968f-b923cdd244be",
        "outputId": "435d2bc4-227e-44e2-b875-1e526fe2bedb"
      },
      "outputs": [
        {
          "data": {
            "text/html": [
              "<div>\n",
              "<style scoped>\n",
              "    .dataframe tbody tr th:only-of-type {\n",
              "        vertical-align: middle;\n",
              "    }\n",
              "\n",
              "    .dataframe tbody tr th {\n",
              "        vertical-align: top;\n",
              "    }\n",
              "\n",
              "    .dataframe thead th {\n",
              "        text-align: right;\n",
              "    }\n",
              "</style>\n",
              "<table border=\"1\" class=\"dataframe\">\n",
              "  <thead>\n",
              "    <tr style=\"text-align: right;\">\n",
              "      <th></th>\n",
              "      <th>date_order</th>\n",
              "      <th>date_invoice</th>\n",
              "      <th>product_id</th>\n",
              "      <th>client_id</th>\n",
              "      <th>sales_net</th>\n",
              "      <th>quantity</th>\n",
              "      <th>branch_id</th>\n",
              "      <th>product_price</th>\n",
              "      <th>order_channel_at the store</th>\n",
              "      <th>order_channel_by phone</th>\n",
              "      <th>order_channel_during the visit of a sales rep</th>\n",
              "      <th>order_channel_online</th>\n",
              "      <th>order_channel_other</th>\n",
              "      <th>time_diff</th>\n",
              "      <th>mean_purchase_frequency_days</th>\n",
              "      <th>cluster</th>\n",
              "      <th>latest_purchase_days</th>\n",
              "      <th>purchase_frequency</th>\n",
              "      <th>std_time_diff</th>\n",
              "      <th>churned</th>\n",
              "    </tr>\n",
              "  </thead>\n",
              "  <tbody>\n",
              "    <tr>\n",
              "      <th>0</th>\n",
              "      <td>2019-08-13</td>\n",
              "      <td>2019-08-13</td>\n",
              "      <td>1650826</td>\n",
              "      <td>6</td>\n",
              "      <td>60.858000</td>\n",
              "      <td>3</td>\n",
              "      <td>8470</td>\n",
              "      <td>20.286000</td>\n",
              "      <td>False</td>\n",
              "      <td>True</td>\n",
              "      <td>False</td>\n",
              "      <td>False</td>\n",
              "      <td>False</td>\n",
              "      <td>NaN</td>\n",
              "      <td>55</td>\n",
              "      <td>2</td>\n",
              "      <td>40</td>\n",
              "      <td>54.583333</td>\n",
              "      <td>66.839643</td>\n",
              "      <td>0</td>\n",
              "    </tr>\n",
              "    <tr>\n",
              "      <th>1</th>\n",
              "      <td>2019-07-31</td>\n",
              "      <td>2019-07-31</td>\n",
              "      <td>942611</td>\n",
              "      <td>6</td>\n",
              "      <td>41.538000</td>\n",
              "      <td>3</td>\n",
              "      <td>8470</td>\n",
              "      <td>13.846000</td>\n",
              "      <td>True</td>\n",
              "      <td>False</td>\n",
              "      <td>False</td>\n",
              "      <td>False</td>\n",
              "      <td>False</td>\n",
              "      <td>13.0</td>\n",
              "      <td>55</td>\n",
              "      <td>2</td>\n",
              "      <td>40</td>\n",
              "      <td>54.583333</td>\n",
              "      <td>66.839643</td>\n",
              "      <td>0</td>\n",
              "    </tr>\n",
              "    <tr>\n",
              "      <th>2</th>\n",
              "      <td>2019-07-31</td>\n",
              "      <td>2019-07-31</td>\n",
              "      <td>113967</td>\n",
              "      <td>6</td>\n",
              "      <td>63.673200</td>\n",
              "      <td>3</td>\n",
              "      <td>8470</td>\n",
              "      <td>21.224400</td>\n",
              "      <td>True</td>\n",
              "      <td>False</td>\n",
              "      <td>False</td>\n",
              "      <td>False</td>\n",
              "      <td>False</td>\n",
              "      <td>0.0</td>\n",
              "      <td>55</td>\n",
              "      <td>2</td>\n",
              "      <td>40</td>\n",
              "      <td>54.583333</td>\n",
              "      <td>66.839643</td>\n",
              "      <td>0</td>\n",
              "    </tr>\n",
              "    <tr>\n",
              "      <th>3</th>\n",
              "      <td>2019-07-31</td>\n",
              "      <td>2019-07-31</td>\n",
              "      <td>1522271</td>\n",
              "      <td>6</td>\n",
              "      <td>370.653924</td>\n",
              "      <td>401</td>\n",
              "      <td>8470</td>\n",
              "      <td>0.924324</td>\n",
              "      <td>True</td>\n",
              "      <td>False</td>\n",
              "      <td>False</td>\n",
              "      <td>False</td>\n",
              "      <td>False</td>\n",
              "      <td>0.0</td>\n",
              "      <td>55</td>\n",
              "      <td>2</td>\n",
              "      <td>40</td>\n",
              "      <td>54.583333</td>\n",
              "      <td>66.839643</td>\n",
              "      <td>0</td>\n",
              "    </tr>\n",
              "    <tr>\n",
              "      <th>4</th>\n",
              "      <td>2019-07-25</td>\n",
              "      <td>2019-07-25</td>\n",
              "      <td>1650826</td>\n",
              "      <td>6</td>\n",
              "      <td>60.858000</td>\n",
              "      <td>3</td>\n",
              "      <td>8470</td>\n",
              "      <td>20.286000</td>\n",
              "      <td>False</td>\n",
              "      <td>True</td>\n",
              "      <td>False</td>\n",
              "      <td>False</td>\n",
              "      <td>False</td>\n",
              "      <td>6.0</td>\n",
              "      <td>55</td>\n",
              "      <td>2</td>\n",
              "      <td>40</td>\n",
              "      <td>54.583333</td>\n",
              "      <td>66.839643</td>\n",
              "      <td>0</td>\n",
              "    </tr>\n",
              "  </tbody>\n",
              "</table>\n",
              "</div>"
            ],
            "text/plain": [
              "  date_order date_invoice  product_id  client_id   sales_net  quantity  \\\n",
              "0 2019-08-13   2019-08-13     1650826          6   60.858000         3   \n",
              "1 2019-07-31   2019-07-31      942611          6   41.538000         3   \n",
              "2 2019-07-31   2019-07-31      113967          6   63.673200         3   \n",
              "3 2019-07-31   2019-07-31     1522271          6  370.653924       401   \n",
              "4 2019-07-25   2019-07-25     1650826          6   60.858000         3   \n",
              "\n",
              "   branch_id  product_price  order_channel_at the store  \\\n",
              "0       8470      20.286000                       False   \n",
              "1       8470      13.846000                        True   \n",
              "2       8470      21.224400                        True   \n",
              "3       8470       0.924324                        True   \n",
              "4       8470      20.286000                       False   \n",
              "\n",
              "   order_channel_by phone  order_channel_during the visit of a sales rep  \\\n",
              "0                    True                                          False   \n",
              "1                   False                                          False   \n",
              "2                   False                                          False   \n",
              "3                   False                                          False   \n",
              "4                    True                                          False   \n",
              "\n",
              "   order_channel_online  order_channel_other  time_diff  \\\n",
              "0                 False                False        NaN   \n",
              "1                 False                False       13.0   \n",
              "2                 False                False        0.0   \n",
              "3                 False                False        0.0   \n",
              "4                 False                False        6.0   \n",
              "\n",
              "   mean_purchase_frequency_days  cluster  latest_purchase_days  \\\n",
              "0                            55        2                    40   \n",
              "1                            55        2                    40   \n",
              "2                            55        2                    40   \n",
              "3                            55        2                    40   \n",
              "4                            55        2                    40   \n",
              "\n",
              "   purchase_frequency  std_time_diff  churned  \n",
              "0           54.583333      66.839643        0  \n",
              "1           54.583333      66.839643        0  \n",
              "2           54.583333      66.839643        0  \n",
              "3           54.583333      66.839643        0  \n",
              "4           54.583333      66.839643        0  "
            ]
          },
          "execution_count": 11,
          "metadata": {},
          "output_type": "execute_result"
        }
      ],
      "source": [
        "data_for_rfm.head()"
      ]
    },
    {
      "cell_type": "code",
      "execution_count": 12,
      "id": "a4ba931b-8baa-4878-ba93-91140ee2b14c",
      "metadata": {
        "colab": {
          "base_uri": "https://localhost:8080/"
        },
        "id": "a4ba931b-8baa-4878-ba93-91140ee2b14c",
        "outputId": "2200f7f9-0d1c-4f39-b1bb-736600c5df05"
      },
      "outputs": [
        {
          "name": "stdout",
          "output_type": "stream",
          "text": [
            "The number of unique client IDs who have churned is: 38593\n"
          ]
        }
      ],
      "source": [
        "# Count the number of unique client IDs who have churned\n",
        "num_unique_churned = data_for_rfm[data_for_rfm['churned'] == 1]['client_id'].nunique()\n",
        "\n",
        "print(f\"The number of unique client IDs who have churned is: {num_unique_churned}\")"
      ]
    },
    {
      "cell_type": "code",
      "execution_count": 13,
      "id": "daf8ae08-7b99-4172-becd-308082e9803c",
      "metadata": {
        "colab": {
          "base_uri": "https://localhost:8080/"
        },
        "id": "daf8ae08-7b99-4172-becd-308082e9803c",
        "outputId": "2f855868-c8f1-4394-c92f-407e9ec340f0"
      },
      "outputs": [
        {
          "name": "stdout",
          "output_type": "stream",
          "text": [
            "The number of unique client IDs who have churned is: 89600\n"
          ]
        }
      ],
      "source": [
        "# Count the number of unique client IDs who have churned\n",
        "num_unique_churned = data_for_rfm[data_for_rfm['churned'] == 0]['client_id'].nunique()\n",
        "\n",
        "print(f\"The number of unique client IDs who have churned is: {num_unique_churned}\")"
      ]
    },
    {
      "cell_type": "code",
      "execution_count": 14,
      "id": "8a983f03-3438-4fed-9406-a26e1ab0bd1d",
      "metadata": {
        "colab": {
          "base_uri": "https://localhost:8080/",
          "height": 468
        },
        "id": "8a983f03-3438-4fed-9406-a26e1ab0bd1d",
        "outputId": "4afb6a93-2e73-4122-ef9b-4a6395361e6e"
      },
      "outputs": [
        {
          "data": {
            "image/png": "[encoded data removed]",
            "text/plain": [
              "<Figure size 1200x600 with 2 Axes>"
            ]
          },
          "metadata": {},
          "output_type": "display_data"
        }
      ],
      "source": [
        "import matplotlib.pyplot as plt\n",
        "# For random_subset_df\n",
        "plt.figure(figsize=(12, 6))\n",
        "plt.subplot(1, 2, 1)\n",
        "plt.hist(data_for_rfm['latest_purchase_days'], bins=4, color='blue', alpha=0.7)\n",
        "plt.title('Latest Purchase Days (Random Subset)')\n",
        "plt.xlabel('Days')\n",
        "plt.ylabel('Frequency')\n",
        "\n",
        "plt.subplot(1, 2, 2)\n",
        "plt.hist(data_for_rfm['purchase_frequency'], bins=4, color='green', alpha=0.7)\n",
        "plt.title('Mean Purchase Frequency (Random Subset)')\n",
        "plt.xlabel('Frequency')\n",
        "plt.ylabel('Frequency')\n",
        "\n",
        "plt.tight_layout()\n",
        "plt.show()\n"
      ]
    },
    {
      "cell_type": "markdown",
      "id": "1ec5d85e-e38f-440a-bf73-f0d1e1db3f27",
      "metadata": {
        "id": "1ec5d85e-e38f-440a-bf73-f0d1e1db3f27"
      },
      "source": [
        "### Download Dataset with Churn Labels"
      ]
    },
    {
      "cell_type": "code",
      "execution_count": 15,
      "id": "c04cb4e6-d8e9-4257-a175-6d9b3e451b1d",
      "metadata": {
        "id": "c04cb4e6-d8e9-4257-a175-6d9b3e451b1d"
      },
      "outputs": [],
      "source": [
        "random_subset_df.to_csv('final_dataset_b2b_random_subset_churn.csv', index=False)"
      ]
    },
    {
      "cell_type": "code",
      "execution_count": 16,
      "id": "erb1zTfIPrh1",
      "metadata": {
        "id": "erb1zTfIPrh1"
      },
      "outputs": [],
      "source": [
        "columns_to_drop = ['time_diff', 'mean_purchase_frequency_days', 'cluster', \"branch_id\", \"product_id\", \"date_invoice\"]\n",
        "data_for_rfm.drop(columns=columns_to_drop, inplace=True)"
      ]
    },
    {
      "cell_type": "code",
      "execution_count": 17,
      "id": "6fe77859",
      "metadata": {},
      "outputs": [],
      "source": [
        "data_for_rfm.to_csv('final_dataset_b2b_remaining_clients_churn.csv', index=False)"
      ]
    }
  ],
  "metadata": {
    "accelerator": "GPU",
    "colab": {
      "gpuType": "V100",
      "machine_shape": "hm",
      "provenance": []
    },
    "kernelspec": {
      "display_name": "Python 3",
      "name": "python3"
    },
    "language_info": {
      "codemirror_mode": {
        "name": "ipython",
        "version": 3
      },
      "file_extension": ".py",
      "mimetype": "text/x-python",
      "name": "python",
      "nbconvert_exporter": "python",
      "pygments_lexer": "ipython3",
      "version": "3.11.8"
    }
  },
  "nbformat": 4,
  "nbformat_minor": 5
}
